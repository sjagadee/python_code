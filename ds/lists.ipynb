{
 "metadata": {
  "language_info": {
   "codemirror_mode": {
    "name": "ipython",
    "version": 3
   },
   "file_extension": ".py",
   "mimetype": "text/x-python",
   "name": "python",
   "nbconvert_exporter": "python",
   "pygments_lexer": "ipython3",
   "version": "3.8.5-final"
  },
  "orig_nbformat": 2,
  "kernelspec": {
   "name": "python38564bitc7169833f9f842a08becba8b2802b0f8",
   "display_name": "Python 3.8.5 64-bit",
   "language": "python"
  }
 },
 "nbformat": 4,
 "nbformat_minor": 2,
 "cells": [
  {
   "source": [
    "# Lists\n",
    "* General purpose\n",
    "* Most widely used data structure\n",
    "* Grow and shrink as needed\n",
    "* Squence type\n",
    "* Sortable"
   ],
   "cell_type": "markdown",
   "metadata": {}
  },
  {
   "source": [
    "Constructors - creating new list"
   ],
   "cell_type": "markdown",
   "metadata": {}
  },
  {
   "cell_type": "code",
   "execution_count": 2,
   "metadata": {},
   "outputs": [
    {
     "output_type": "stream",
     "name": "stdout",
     "text": [
      "[0, 1, 2, 3, 4, 5, 6, 7]\n[25, 36, 49, 64, 81]\n"
     ]
    }
   ],
   "source": [
    "#  ways to initialize a list / array\n",
    "x = list()\n",
    "y = ['a', 23, 'b', 44]\n",
    "tup = ('a', 'g')\n",
    "z = list(tup)\n",
    "\n",
    "# list comprehension\n",
    "a = [m for m in range(8)]\n",
    "print(a)\n",
    "\n",
    "b = [i**2 for i in range(10) if i>4]\n",
    "print(b)\n"
   ]
  },
  {
   "source": [
    "delete - whole list or item(s) in a list"
   ],
   "cell_type": "markdown",
   "metadata": {}
  }
 ]
}