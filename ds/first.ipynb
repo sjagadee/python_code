{
 "metadata": {
  "language_info": {
   "codemirror_mode": {
    "name": "ipython",
    "version": 3
   },
   "file_extension": ".py",
   "mimetype": "text/x-python",
   "name": "python",
   "nbconvert_exporter": "python",
   "pygments_lexer": "ipython3",
   "version": "3.8.5-final"
  },
  "orig_nbformat": 2,
  "kernelspec": {
   "name": "python38564bitc7169833f9f842a08becba8b2802b0f8",
   "display_name": "Python 3.8.5 64-bit",
   "language": "python"
  }
 },
 "nbformat": 4,
 "nbformat_minor": 2,
 "cells": [
  {
   "source": [
    "# This is the about - String, List and Tuples"
   ],
   "cell_type": "markdown",
   "metadata": {}
  },
  {
   "source": [
    "\n",
    "# String\n",
    "x = \"new\"\n",
    "print(x[2])\n",
    "\n",
    "# list\n",
    "lst = ['cow', 'dog', 'monkey']\n",
    "print(lst[1])\n",
    "\n",
    "#tuple\n",
    "tup = ('mamatha', 'srinivas', 'sandeep', 'rajeev')\n",
    "print(tup[0])\n",
    "\n"
   ],
   "cell_type": "code",
   "metadata": {},
   "execution_count": 7,
   "outputs": [
    {
     "output_type": "stream",
     "name": "stdout",
     "text": [
      "w\ndog\nmamatha\n"
     ]
    }
   ]
  },
  {
   "source": [
    "# Slicing - slicing out substring, sublist, subtuple\n",
    "# \"[start: end+1: step]\""
   ],
   "cell_type": "markdown",
   "metadata": {}
  },
  {
   "cell_type": "code",
   "execution_count": 15,
   "metadata": {},
   "outputs": [
    {
     "output_type": "stream",
     "name": "stdout",
     "text": [
      "omp\noptr\nputer\nCompu\nr\nter\nComput\n"
     ]
    }
   ],
   "source": [
    "str = 'Computer'\n",
    "print(str[1:4])\n",
    "print(str[1:8:2])\n",
    "print(str[3:])\n",
    "print(str[:5])\n",
    "print(str[-1])\n",
    "print(str[-3:])\n",
    "print(str[:-2])"
   ]
  },
  {
   "source": [
    "# Adding/ Concatinating - using '+' operator"
   ],
   "cell_type": "markdown",
   "metadata": {}
  },
  {
   "cell_type": "code",
   "execution_count": 21,
   "metadata": {},
   "outputs": [
    {
     "output_type": "stream",
     "name": "stdout",
     "text": [
      "horseshoe\n['ram', 'sam', 'bam', 'tom', 'lan']\n('summi', 'lummi', 'tummy')\n"
     ]
    }
   ],
   "source": [
    "# string concat\n",
    "x = 'horse' + 'shoe'\n",
    "print(x)\n",
    "\n",
    "# list concat\n",
    "y = ['ram', 'sam', 'bam'] + ['tom', 'lan']\n",
    "print(y)\n",
    "\n",
    "# tuple concat\n",
    "z = ('summi', 'lummi') + ('tummy',)\n",
    "print(z)"
   ]
  },
  {
   "source": [
    "# Multiplying - multiply sequence using '*' operator"
   ],
   "cell_type": "markdown",
   "metadata": {}
  },
  {
   "cell_type": "code",
   "execution_count": 24,
   "metadata": {},
   "outputs": [
    {
     "output_type": "stream",
     "name": "stdout",
     "text": [
      "ranranranran\n[6, 9, 8, 6, 9, 8, 6, 9, 8]\n(2, 3, 2, 3)\n"
     ]
    }
   ],
   "source": [
    "# string\n",
    "x = 'ran' * 4\n",
    "print(x)\n",
    "\n",
    "# list\n",
    "y = [6, 9, 8] * 3\n",
    "print(y)\n",
    "\n",
    "# tuple \n",
    "z = (2, 3) * 2\n",
    "print(z)"
   ]
  },
  {
   "source": [
    "# Checking membership - test if item is present   "
   ],
   "cell_type": "markdown",
   "metadata": {}
  },
  {
   "cell_type": "code",
   "execution_count": 27,
   "metadata": {},
   "outputs": [
    {
     "output_type": "stream",
     "name": "stdout",
     "text": [
      "True\nFalse\nTrue\n"
     ]
    }
   ],
   "source": [
    "# string\n",
    "x = 'bug'\n",
    "print('u' in x)\n",
    "\n",
    "# list\n",
    "y = ['tom', 'man', 'lot']\n",
    "print('man' not in y)\n",
    "\n",
    "# tuple\n",
    "z = ('sum', 'sub', 'div')\n",
    "print('sum' in z)"
   ]
  },
  {
   "source": [
    "# Iterating - in a sequence"
   ],
   "cell_type": "markdown",
   "metadata": {}
  },
  {
   "cell_type": "code",
   "execution_count": 29,
   "metadata": {},
   "outputs": [
    {
     "output_type": "stream",
     "name": "stdout",
     "text": [
      "7\n8\n9\n------------\n0  =>  7\n1  =>  8\n2  =>  9\n"
     ]
    }
   ],
   "source": [
    "x = [7, 8, 9]\n",
    "for item in x:\n",
    "    print(item)\n",
    "\n",
    "print('------------')\n",
    "\n",
    "# enumarate will also provide the index back\n",
    "for index, item in enumerate(x):\n",
    "    print(index, ' => ', item)"
   ]
  },
  {
   "source": [
    "#  Count of items / Length of items"
   ],
   "cell_type": "markdown",
   "metadata": {}
  },
  {
   "cell_type": "code",
   "execution_count": 31,
   "metadata": {},
   "outputs": [
    {
     "output_type": "stream",
     "name": "stdout",
     "text": [
      "5\n3\n"
     ]
    }
   ],
   "source": [
    "x = 'hello'\n",
    "print(len(x))\n",
    "\n",
    "y = ['new', 'old', 'mid']\n",
    "print(len(y))\n",
    "\n",
    "z = ('awesome', 'slow')\n",
    "print(len(z))"
   ]
  }
 ]
}