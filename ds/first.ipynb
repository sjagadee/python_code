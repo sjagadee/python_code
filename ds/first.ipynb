{
 "metadata": {
  "language_info": {
   "codemirror_mode": {
    "name": "ipython",
    "version": 3
   },
   "file_extension": ".py",
   "mimetype": "text/x-python",
   "name": "python",
   "nbconvert_exporter": "python",
   "pygments_lexer": "ipython3",
   "version": "3.8.5-final"
  },
  "orig_nbformat": 2,
  "kernelspec": {
   "name": "python38564bitc7169833f9f842a08becba8b2802b0f8",
   "display_name": "Python 3.8.5 64-bit",
   "language": "python"
  }
 },
 "nbformat": 4,
 "nbformat_minor": 2,
 "cells": [
  {
   "source": [
    "# This is the about - String, List and Tuples"
   ],
   "cell_type": "markdown",
   "metadata": {}
  },
  {
   "source": [
    "\n",
    "# String\n",
    "x = \"new\"\n",
    "print(x[2])\n",
    "\n",
    "# list\n",
    "lst = ['cow', 'dog', 'monkey']\n",
    "print(lst[1])\n",
    "\n",
    "#tuple\n",
    "tup = ('mamatha', 'srinivas', 'sandeep', 'rajeev')\n",
    "print(tup[0])\n",
    "\n"
   ],
   "cell_type": "code",
   "metadata": {},
   "execution_count": 7,
   "outputs": [
    {
     "output_type": "stream",
     "name": "stdout",
     "text": [
      "w\ndog\nmamatha\n"
     ]
    }
   ]
  },
  {
   "source": [
    "# Slicing - slicing out substring, sublist, subtuple\n",
    "# \"[start: end+1: step]\""
   ],
   "cell_type": "markdown",
   "metadata": {}
  },
  {
   "cell_type": "code",
   "execution_count": 15,
   "metadata": {},
   "outputs": [
    {
     "output_type": "stream",
     "name": "stdout",
     "text": [
      "omp\noptr\nputer\nCompu\nr\nter\nComput\n"
     ]
    }
   ],
   "source": [
    "str = 'Computer'\n",
    "print(str[1:4])\n",
    "print(str[1:8:2])\n",
    "print(str[3:])\n",
    "print(str[:5])\n",
    "print(str[-1])\n",
    "print(str[-3:])\n",
    "print(str[:-2])"
   ]
  },
  {
   "source": [
    "# Adding/ Concatinating - using '+' operator"
   ],
   "cell_type": "markdown",
   "metadata": {}
  },
  {
   "cell_type": "code",
   "execution_count": 21,
   "metadata": {},
   "outputs": [
    {
     "output_type": "stream",
     "name": "stdout",
     "text": [
      "horseshoe\n['ram', 'sam', 'bam', 'tom', 'lan']\n('summi', 'lummi', 'tummy')\n"
     ]
    }
   ],
   "source": [
    "# string concat\n",
    "x = 'horse' + 'shoe'\n",
    "print(x)\n",
    "\n",
    "# list concat\n",
    "y = ['ram', 'sam', 'bam'] + ['tom', 'lan']\n",
    "print(y)\n",
    "\n",
    "# tuple concat\n",
    "z = ('summi', 'lummi') + ('tummy',)\n",
    "print(z)"
   ]
  },
  {
   "source": [
    "# Multiplying - multiply sequence using '*' operator"
   ],
   "cell_type": "markdown",
   "metadata": {}
  },
  {
   "cell_type": "code",
   "execution_count": null,
   "metadata": {},
   "outputs": [],
   "source": [
    "x = 'ran' * 4\n",
    "print(x)"
   ]
  }
 ]
}